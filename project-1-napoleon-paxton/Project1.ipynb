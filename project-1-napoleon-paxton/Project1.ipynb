{
 "cells": [
  {
   "cell_type": "markdown",
   "id": "ee19a2b4",
   "metadata": {},
   "source": [
    "# Project 1: \n",
    "## Napoleon Paxton"
   ]
  },
  {
   "cell_type": "code",
   "execution_count": 67,
   "id": "99aee655",
   "metadata": {},
   "outputs": [],
   "source": [
    "import pandas as pd\n",
    "import matplotlib.pyplot as plt\n",
    "import seaborn as sns"
   ]
  },
  {
   "cell_type": "markdown",
   "id": "4992df49",
   "metadata": {},
   "source": [
    "## Part 1 - I have completed the questions in the following cells. I have included the Big Query analysis beneath the answers.\n",
    "\n",
    "1a. Show the number of trips in bikeshare_trips?\n",
    "\n",
    "Answer: Then number of trips in bikeshare_trips is 983648."
   ]
  },
  {
   "cell_type": "code",
   "execution_count": 2,
   "id": "b4864fc3",
   "metadata": {},
   "outputs": [
    {
     "name": "stderr",
     "output_type": "stream",
     "text": [
      "Query complete after 0.01s: 100%|██████████| 2/2 [00:00<00:00, 504.09query/s]                         \n",
      "Downloading: 100%|██████████| 1/1 [00:01<00:00,  1.61s/rows]\n"
     ]
    },
    {
     "data": {
      "text/html": [
       "<div>\n",
       "<style scoped>\n",
       "    .dataframe tbody tr th:only-of-type {\n",
       "        vertical-align: middle;\n",
       "    }\n",
       "\n",
       "    .dataframe tbody tr th {\n",
       "        vertical-align: top;\n",
       "    }\n",
       "\n",
       "    .dataframe thead th {\n",
       "        text-align: right;\n",
       "    }\n",
       "</style>\n",
       "<table border=\"1\" class=\"dataframe\">\n",
       "  <thead>\n",
       "    <tr style=\"text-align: right;\">\n",
       "      <th></th>\n",
       "      <th>f0_</th>\n",
       "    </tr>\n",
       "  </thead>\n",
       "  <tbody>\n",
       "    <tr>\n",
       "      <th>0</th>\n",
       "      <td>983648</td>\n",
       "    </tr>\n",
       "  </tbody>\n",
       "</table>\n",
       "</div>"
      ],
      "text/plain": [
       "      f0_\n",
       "0  983648"
      ]
     },
     "execution_count": 2,
     "metadata": {},
     "output_type": "execute_result"
    }
   ],
   "source": [
    "%%bigquery\n",
    "\n",
    "SELECT COUNT(*)\n",
    "FROM bigquery-public-data.san_francisco.bikeshare_trips"
   ]
  },
  {
   "cell_type": "markdown",
   "id": "4819b6a3",
   "metadata": {},
   "source": [
    "1b. What are the number of status updated?\n",
    "\n",
    "Answer: Then number of status updates are 107501619."
   ]
  },
  {
   "cell_type": "code",
   "execution_count": 1,
   "id": "bc60e434",
   "metadata": {},
   "outputs": [
    {
     "name": "stderr",
     "output_type": "stream",
     "text": [
      "Query complete after 0.01s: 100%|██████████| 1/1 [00:00<00:00, 755.46query/s] \n",
      "Downloading: 100%|██████████| 1/1 [00:01<00:00,  1.69s/rows]\n"
     ]
    },
    {
     "data": {
      "text/html": [
       "<div>\n",
       "<style scoped>\n",
       "    .dataframe tbody tr th:only-of-type {\n",
       "        vertical-align: middle;\n",
       "    }\n",
       "\n",
       "    .dataframe tbody tr th {\n",
       "        vertical-align: top;\n",
       "    }\n",
       "\n",
       "    .dataframe thead th {\n",
       "        text-align: right;\n",
       "    }\n",
       "</style>\n",
       "<table border=\"1\" class=\"dataframe\">\n",
       "  <thead>\n",
       "    <tr style=\"text-align: right;\">\n",
       "      <th></th>\n",
       "      <th>f0_</th>\n",
       "    </tr>\n",
       "  </thead>\n",
       "  <tbody>\n",
       "    <tr>\n",
       "      <th>0</th>\n",
       "      <td>107501619</td>\n",
       "    </tr>\n",
       "  </tbody>\n",
       "</table>\n",
       "</div>"
      ],
      "text/plain": [
       "         f0_\n",
       "0  107501619"
      ]
     },
     "execution_count": 1,
     "metadata": {},
     "output_type": "execute_result"
    }
   ],
   "source": [
    "%%bigquery\n",
    "\n",
    "SELECT COUNT(*)\n",
    "FROM bigquery-public-data.san_francisco.bikeshare_status"
   ]
  },
  {
   "cell_type": "markdown",
   "id": "fdcc78a2",
   "metadata": {},
   "source": [
    "1c. What are the number of bikeshare stations?\n",
    "\n",
    "Answer: The number of stations are 74."
   ]
  },
  {
   "cell_type": "code",
   "execution_count": 3,
   "id": "59035ece",
   "metadata": {},
   "outputs": [
    {
     "name": "stderr",
     "output_type": "stream",
     "text": [
      "Query complete after 0.00s: 100%|██████████| 1/1 [00:00<00:00, 714.29query/s] \n",
      "Downloading: 100%|██████████| 1/1 [00:01<00:00,  1.45s/rows]\n"
     ]
    },
    {
     "data": {
      "text/html": [
       "<div>\n",
       "<style scoped>\n",
       "    .dataframe tbody tr th:only-of-type {\n",
       "        vertical-align: middle;\n",
       "    }\n",
       "\n",
       "    .dataframe tbody tr th {\n",
       "        vertical-align: top;\n",
       "    }\n",
       "\n",
       "    .dataframe thead th {\n",
       "        text-align: right;\n",
       "    }\n",
       "</style>\n",
       "<table border=\"1\" class=\"dataframe\">\n",
       "  <thead>\n",
       "    <tr style=\"text-align: right;\">\n",
       "      <th></th>\n",
       "      <th>f0_</th>\n",
       "    </tr>\n",
       "  </thead>\n",
       "  <tbody>\n",
       "    <tr>\n",
       "      <th>0</th>\n",
       "      <td>74</td>\n",
       "    </tr>\n",
       "  </tbody>\n",
       "</table>\n",
       "</div>"
      ],
      "text/plain": [
       "   f0_\n",
       "0   74"
      ]
     },
     "execution_count": 3,
     "metadata": {},
     "output_type": "execute_result"
    }
   ],
   "source": [
    "%%bigquery\n",
    "\n",
    "SELECT COUNT(*)\n",
    "FROM bigquery-public-data.san_francisco.bikeshare_stations"
   ]
  },
  {
   "cell_type": "markdown",
   "id": "b84a93c1",
   "metadata": {},
   "source": [
    "2. What is the earliest start date and latest end date and time for a trip?\n",
    "\n",
    "Answer: Earliest start date is 2013-08-29 at 09:08:00 UTC and latest end date is 2016-08-31 at 23:48:00 UTC"
   ]
  },
  {
   "cell_type": "code",
   "execution_count": 16,
   "id": "4792cee0",
   "metadata": {},
   "outputs": [
    {
     "name": "stderr",
     "output_type": "stream",
     "text": [
      "Query complete after 0.01s: 100%|██████████| 2/2 [00:00<00:00, 340.68query/s]                         \n",
      "Downloading: 100%|██████████| 1/1 [00:01<00:00,  1.25s/rows]\n"
     ]
    },
    {
     "data": {
      "text/html": [
       "<div>\n",
       "<style scoped>\n",
       "    .dataframe tbody tr th:only-of-type {\n",
       "        vertical-align: middle;\n",
       "    }\n",
       "\n",
       "    .dataframe tbody tr th {\n",
       "        vertical-align: top;\n",
       "    }\n",
       "\n",
       "    .dataframe thead th {\n",
       "        text-align: right;\n",
       "    }\n",
       "</style>\n",
       "<table border=\"1\" class=\"dataframe\">\n",
       "  <thead>\n",
       "    <tr style=\"text-align: right;\">\n",
       "      <th></th>\n",
       "      <th>f0_</th>\n",
       "      <th>f1_</th>\n",
       "    </tr>\n",
       "  </thead>\n",
       "  <tbody>\n",
       "    <tr>\n",
       "      <th>0</th>\n",
       "      <td>2013-08-29 09:08:00+00:00</td>\n",
       "      <td>2016-08-31 23:48:00+00:00</td>\n",
       "    </tr>\n",
       "  </tbody>\n",
       "</table>\n",
       "</div>"
      ],
      "text/plain": [
       "                        f0_                       f1_\n",
       "0 2013-08-29 09:08:00+00:00 2016-08-31 23:48:00+00:00"
      ]
     },
     "execution_count": 16,
     "metadata": {},
     "output_type": "execute_result"
    }
   ],
   "source": [
    "%%bigquery\n",
    "\n",
    "SELECT MIN(start_date), MAX(end_date)\n",
    "FROM bigquery-public-data.san_francisco.bikeshare_trips"
   ]
  },
  {
   "cell_type": "markdown",
   "id": "02bd915f",
   "metadata": {},
   "source": [
    "3. How many bikes are there? \n",
    "Anwser: There are 700 bikes."
   ]
  },
  {
   "cell_type": "code",
   "execution_count": 18,
   "id": "53d9877b",
   "metadata": {},
   "outputs": [
    {
     "name": "stderr",
     "output_type": "stream",
     "text": [
      "Query complete after 0.01s: 100%|██████████| 3/3 [00:00<00:00, 602.34query/s]                         \n",
      "Downloading: 100%|██████████| 1/1 [00:01<00:00,  1.45s/rows]\n"
     ]
    },
    {
     "data": {
      "text/html": [
       "<div>\n",
       "<style scoped>\n",
       "    .dataframe tbody tr th:only-of-type {\n",
       "        vertical-align: middle;\n",
       "    }\n",
       "\n",
       "    .dataframe tbody tr th {\n",
       "        vertical-align: top;\n",
       "    }\n",
       "\n",
       "    .dataframe thead th {\n",
       "        text-align: right;\n",
       "    }\n",
       "</style>\n",
       "<table border=\"1\" class=\"dataframe\">\n",
       "  <thead>\n",
       "    <tr style=\"text-align: right;\">\n",
       "      <th></th>\n",
       "      <th>f0_</th>\n",
       "    </tr>\n",
       "  </thead>\n",
       "  <tbody>\n",
       "    <tr>\n",
       "      <th>0</th>\n",
       "      <td>700</td>\n",
       "    </tr>\n",
       "  </tbody>\n",
       "</table>\n",
       "</div>"
      ],
      "text/plain": [
       "   f0_\n",
       "0  700"
      ]
     },
     "execution_count": 18,
     "metadata": {},
     "output_type": "execute_result"
    }
   ],
   "source": [
    "%%bigquery\n",
    "\n",
    "SELECT COUNT(distinct bike_number)\n",
    "FROM bigquery-public-data.san_francisco.bikeshare_trips"
   ]
  },
  {
   "cell_type": "markdown",
   "id": "7a460f2e",
   "metadata": {},
   "source": [
    "## My Additional Questions\n",
    "\n",
    "Questions are numbered 1 - 3 and answers are in Big Query MYSQL Code beneath them."
   ]
  },
  {
   "cell_type": "markdown",
   "id": "946c574c",
   "metadata": {},
   "source": [
    "1. Give me the names of the bikeshare stations and the date they were installed.\n",
    "\n",
    "Answer: There are 74 stations along with their installation date listed below in the query."
   ]
  },
  {
   "cell_type": "code",
   "execution_count": 21,
   "id": "1398a82e",
   "metadata": {},
   "outputs": [
    {
     "name": "stderr",
     "output_type": "stream",
     "text": [
      "Query complete after 0.00s: 100%|██████████| 1/1 [00:00<00:00, 290.40query/s]                          \n",
      "Downloading: 100%|██████████| 74/74 [00:01<00:00, 49.20rows/s]\n"
     ]
    },
    {
     "data": {
      "text/html": [
       "<div>\n",
       "<style scoped>\n",
       "    .dataframe tbody tr th:only-of-type {\n",
       "        vertical-align: middle;\n",
       "    }\n",
       "\n",
       "    .dataframe tbody tr th {\n",
       "        vertical-align: top;\n",
       "    }\n",
       "\n",
       "    .dataframe thead th {\n",
       "        text-align: right;\n",
       "    }\n",
       "</style>\n",
       "<table border=\"1\" class=\"dataframe\">\n",
       "  <thead>\n",
       "    <tr style=\"text-align: right;\">\n",
       "      <th></th>\n",
       "      <th>name</th>\n",
       "      <th>installation_date</th>\n",
       "    </tr>\n",
       "  </thead>\n",
       "  <tbody>\n",
       "    <tr>\n",
       "      <th>0</th>\n",
       "      <td>Santa Clara at Almaden</td>\n",
       "      <td>2013-08-06</td>\n",
       "    </tr>\n",
       "    <tr>\n",
       "      <th>1</th>\n",
       "      <td>Cowper at University</td>\n",
       "      <td>2013-08-14</td>\n",
       "    </tr>\n",
       "    <tr>\n",
       "      <th>2</th>\n",
       "      <td>University and Emerson</td>\n",
       "      <td>2013-08-15</td>\n",
       "    </tr>\n",
       "    <tr>\n",
       "      <th>3</th>\n",
       "      <td>Castro Street and El Camino Real</td>\n",
       "      <td>2013-12-31</td>\n",
       "    </tr>\n",
       "    <tr>\n",
       "      <th>4</th>\n",
       "      <td>Ryland Park</td>\n",
       "      <td>2014-04-09</td>\n",
       "    </tr>\n",
       "    <tr>\n",
       "      <th>...</th>\n",
       "      <td>...</td>\n",
       "      <td>...</td>\n",
       "    </tr>\n",
       "    <tr>\n",
       "      <th>69</th>\n",
       "      <td>2nd at Townsend</td>\n",
       "      <td>2013-08-22</td>\n",
       "    </tr>\n",
       "    <tr>\n",
       "      <th>70</th>\n",
       "      <td>Market at 10th</td>\n",
       "      <td>2013-08-23</td>\n",
       "    </tr>\n",
       "    <tr>\n",
       "      <th>71</th>\n",
       "      <td>Market at Sansome</td>\n",
       "      <td>2013-08-25</td>\n",
       "    </tr>\n",
       "    <tr>\n",
       "      <th>72</th>\n",
       "      <td>5th St at Folsom St</td>\n",
       "      <td>2016-08-04</td>\n",
       "    </tr>\n",
       "    <tr>\n",
       "      <th>73</th>\n",
       "      <td>Cyril Magnin St at Ellis St</td>\n",
       "      <td>2016-08-04</td>\n",
       "    </tr>\n",
       "  </tbody>\n",
       "</table>\n",
       "<p>74 rows × 2 columns</p>\n",
       "</div>"
      ],
      "text/plain": [
       "                                name installation_date\n",
       "0             Santa Clara at Almaden        2013-08-06\n",
       "1               Cowper at University        2013-08-14\n",
       "2             University and Emerson        2013-08-15\n",
       "3   Castro Street and El Camino Real        2013-12-31\n",
       "4                        Ryland Park        2014-04-09\n",
       "..                               ...               ...\n",
       "69                   2nd at Townsend        2013-08-22\n",
       "70                    Market at 10th        2013-08-23\n",
       "71                 Market at Sansome        2013-08-25\n",
       "72               5th St at Folsom St        2016-08-04\n",
       "73       Cyril Magnin St at Ellis St        2016-08-04\n",
       "\n",
       "[74 rows x 2 columns]"
      ]
     },
     "execution_count": 21,
     "metadata": {},
     "output_type": "execute_result"
    }
   ],
   "source": [
    "%%bigquery\n",
    "\n",
    "SELECT name, installation_date\n",
    "FROM bigquery-public-data.san_francisco.bikeshare_stations"
   ]
  },
  {
   "cell_type": "markdown",
   "id": "567fc7fe",
   "metadata": {},
   "source": [
    "2. Show the top 10 stations that have the most available bikes.\n",
    "\n",
    "Answer: The top 10 station IDs with bikes available are: 90, 77, 2, 61, 67, 22, 50, 59, 69, and 55. "
   ]
  },
  {
   "cell_type": "code",
   "execution_count": 36,
   "id": "be404df4",
   "metadata": {},
   "outputs": [
    {
     "name": "stderr",
     "output_type": "stream",
     "text": [
      "Query complete after 0.00s: 100%|██████████| 3/3 [00:00<00:00, 505.54query/s]                         \n",
      "Downloading: 100%|██████████| 10/10 [00:01<00:00,  6.55rows/s]\n"
     ]
    },
    {
     "data": {
      "text/html": [
       "<div>\n",
       "<style scoped>\n",
       "    .dataframe tbody tr th:only-of-type {\n",
       "        vertical-align: middle;\n",
       "    }\n",
       "\n",
       "    .dataframe tbody tr th {\n",
       "        vertical-align: top;\n",
       "    }\n",
       "\n",
       "    .dataframe thead th {\n",
       "        text-align: right;\n",
       "    }\n",
       "</style>\n",
       "<table border=\"1\" class=\"dataframe\">\n",
       "  <thead>\n",
       "    <tr style=\"text-align: right;\">\n",
       "      <th></th>\n",
       "      <th>station_id</th>\n",
       "      <th>bikes_per_station</th>\n",
       "    </tr>\n",
       "  </thead>\n",
       "  <tbody>\n",
       "    <tr>\n",
       "      <th>0</th>\n",
       "      <td>90</td>\n",
       "      <td>29</td>\n",
       "    </tr>\n",
       "    <tr>\n",
       "      <th>1</th>\n",
       "      <td>77</td>\n",
       "      <td>27</td>\n",
       "    </tr>\n",
       "    <tr>\n",
       "      <th>2</th>\n",
       "      <td>2</td>\n",
       "      <td>27</td>\n",
       "    </tr>\n",
       "    <tr>\n",
       "      <th>3</th>\n",
       "      <td>61</td>\n",
       "      <td>27</td>\n",
       "    </tr>\n",
       "    <tr>\n",
       "      <th>4</th>\n",
       "      <td>67</td>\n",
       "      <td>27</td>\n",
       "    </tr>\n",
       "    <tr>\n",
       "      <th>5</th>\n",
       "      <td>22</td>\n",
       "      <td>26</td>\n",
       "    </tr>\n",
       "    <tr>\n",
       "      <th>6</th>\n",
       "      <td>50</td>\n",
       "      <td>23</td>\n",
       "    </tr>\n",
       "    <tr>\n",
       "      <th>7</th>\n",
       "      <td>59</td>\n",
       "      <td>23</td>\n",
       "    </tr>\n",
       "    <tr>\n",
       "      <th>8</th>\n",
       "      <td>69</td>\n",
       "      <td>23</td>\n",
       "    </tr>\n",
       "    <tr>\n",
       "      <th>9</th>\n",
       "      <td>55</td>\n",
       "      <td>23</td>\n",
       "    </tr>\n",
       "  </tbody>\n",
       "</table>\n",
       "</div>"
      ],
      "text/plain": [
       "   station_id  bikes_per_station\n",
       "0          90                 29\n",
       "1          77                 27\n",
       "2           2                 27\n",
       "3          61                 27\n",
       "4          67                 27\n",
       "5          22                 26\n",
       "6          50                 23\n",
       "7          59                 23\n",
       "8          69                 23\n",
       "9          55                 23"
      ]
     },
     "execution_count": 36,
     "metadata": {},
     "output_type": "execute_result"
    }
   ],
   "source": [
    "%%bigquery\n",
    "\n",
    "SELECT station_id, MAX(bikes_available) as bikes_per_station\n",
    "FROM bigquery-public-data.san_francisco.bikeshare_status\n",
    "GROUP BY station_id\n",
    "ORDER BY bikes_per_station DESC\n",
    "LIMIT 10"
   ]
  },
  {
   "cell_type": "markdown",
   "id": "100bab23",
   "metadata": {},
   "source": [
    "3. What station has the most bikes?\n",
    "\n",
    "Answer: Station 90, 5th St at Folsom St."
   ]
  },
  {
   "cell_type": "code",
   "execution_count": 26,
   "id": "b8131036",
   "metadata": {},
   "outputs": [
    {
     "name": "stderr",
     "output_type": "stream",
     "text": [
      "Query complete after 0.00s: 100%|██████████| 4/4 [00:00<00:00, 1560.24query/s]                        \n",
      "Downloading: 100%|██████████| 1/1 [00:01<00:00,  1.52s/rows]\n"
     ]
    },
    {
     "data": {
      "text/html": [
       "<div>\n",
       "<style scoped>\n",
       "    .dataframe tbody tr th:only-of-type {\n",
       "        vertical-align: middle;\n",
       "    }\n",
       "\n",
       "    .dataframe tbody tr th {\n",
       "        vertical-align: top;\n",
       "    }\n",
       "\n",
       "    .dataframe thead th {\n",
       "        text-align: right;\n",
       "    }\n",
       "</style>\n",
       "<table border=\"1\" class=\"dataframe\">\n",
       "  <thead>\n",
       "    <tr style=\"text-align: right;\">\n",
       "      <th></th>\n",
       "      <th>station_id</th>\n",
       "      <th>bikes_available</th>\n",
       "    </tr>\n",
       "  </thead>\n",
       "  <tbody>\n",
       "    <tr>\n",
       "      <th>0</th>\n",
       "      <td>90</td>\n",
       "      <td>29</td>\n",
       "    </tr>\n",
       "  </tbody>\n",
       "</table>\n",
       "</div>"
      ],
      "text/plain": [
       "   station_id  bikes_available\n",
       "0          90               29"
      ]
     },
     "execution_count": 26,
     "metadata": {},
     "output_type": "execute_result"
    }
   ],
   "source": [
    "%%bigquery\n",
    "SELECT station_id, bikes_available\n",
    "FROM bigquery-public-data.san_francisco.bikeshare_status\n",
    "WHERE bikes_available = (SELECT MAX(bikes_available) FROM bigquery-public-data.san_francisco.bikeshare_status)\n",
    "LIMIT 1"
   ]
  },
  {
   "cell_type": "code",
   "execution_count": 30,
   "id": "9478f856",
   "metadata": {},
   "outputs": [
    {
     "name": "stderr",
     "output_type": "stream",
     "text": [
      "Query complete after 0.00s: 100%|██████████| 1/1 [00:00<00:00, 276.49query/s]                          \n",
      "Downloading: 100%|██████████| 1/1 [00:01<00:00,  1.57s/rows]\n"
     ]
    },
    {
     "data": {
      "text/html": [
       "<div>\n",
       "<style scoped>\n",
       "    .dataframe tbody tr th:only-of-type {\n",
       "        vertical-align: middle;\n",
       "    }\n",
       "\n",
       "    .dataframe tbody tr th {\n",
       "        vertical-align: top;\n",
       "    }\n",
       "\n",
       "    .dataframe thead th {\n",
       "        text-align: right;\n",
       "    }\n",
       "</style>\n",
       "<table border=\"1\" class=\"dataframe\">\n",
       "  <thead>\n",
       "    <tr style=\"text-align: right;\">\n",
       "      <th></th>\n",
       "      <th>name</th>\n",
       "    </tr>\n",
       "  </thead>\n",
       "  <tbody>\n",
       "    <tr>\n",
       "      <th>0</th>\n",
       "      <td>5th St at Folsom St</td>\n",
       "    </tr>\n",
       "  </tbody>\n",
       "</table>\n",
       "</div>"
      ],
      "text/plain": [
       "                  name\n",
       "0  5th St at Folsom St"
      ]
     },
     "execution_count": 30,
     "metadata": {},
     "output_type": "execute_result"
    }
   ],
   "source": [
    "%%bigquery\n",
    "SELECT name\n",
    "FROM bigquery-public-data.san_francisco.bikeshare_stations\n",
    "WHERE station_id = 90"
   ]
  },
  {
   "cell_type": "markdown",
   "id": "9def8bd3",
   "metadata": {},
   "source": [
    "# Part 2 - Querying Data from the BigQuery CLI"
   ]
  },
  {
   "cell_type": "markdown",
   "id": "dc6231a6",
   "metadata": {},
   "source": [
    "## Rerun the first 3 queries from Part 1"
   ]
  },
  {
   "cell_type": "markdown",
   "id": "c0eec41e",
   "metadata": {},
   "source": [
    "1. Show the number of trips in bikeshare_trips? I will use this as the size of the dataset since it is called out in the project.\n",
    "\n",
    "Answer: Then number of trips in bikeshare_trips is 983648.\n",
    "\n",
    "bq query --use_legacy_sql=false '\n",
    "SELECT COUNT(*)\n",
    "FROM 'bigquery-public-data.san_francisco.bikeshare_trips''"
   ]
  },
  {
   "cell_type": "markdown",
   "id": "07f5908d",
   "metadata": {},
   "source": [
    "2. What is the earliest start date and latest end date and time for a trip?\n",
    "\n",
    "Answer: Earliest start date is 2013-08-29 at 09:08:00 UTC and latest end date is 2016-08-31 at 23:48:00 UTC\n",
    "\n",
    "bq query --use_legacy_sql=false '\n",
    "SELECT MIN(start_date), MAX(end_date)\n",
    "FROM 'bigquery-public-data.san_francisco.bikeshare_trips''"
   ]
  },
  {
   "cell_type": "markdown",
   "id": "77b50a6c",
   "metadata": {},
   "source": [
    "3. How many bikes are there? \n",
    "Anwser: There are 700 bikes.\n",
    "\n",
    "bq query --use_legacy_sql=false '\n",
    "SELECT COUNT(distinct bike_number)\n",
    "FROM 'bigquery-public-data.san_francisco.bikeshare_trips''"
   ]
  },
  {
   "cell_type": "markdown",
   "id": "90af5b3a",
   "metadata": {},
   "source": [
    "## New Question: How many trips are in the morning vs in the afternoon?"
   ]
  },
  {
   "cell_type": "markdown",
   "id": "c1e2295b",
   "metadata": {},
   "source": [
    "Answer: There were 412339 trips in the morning. And there were 571309 trips in the evening.\n",
    "\n",
    "bq query --use_legacy_sql=false '\n",
    "SELECT COUNT(*) as morning\n",
    "FROM 'bigquery-public-data.san_francisco.bikeshare_trips'\n",
    "WHERE EXTRACT(HOUR FROM start_date) < 12'\n",
    "\n",
    "bq query --use_legacy_sql=false '\n",
    "SELECT COUNT(*) as evening\n",
    "FROM 'bigquery-public-data.san_francisco.bikeshare_trips'\n",
    "WHERE EXTRACT(HOUR FROM start_date) >= 12'\n"
   ]
  },
  {
   "cell_type": "markdown",
   "id": "8aa804a1",
   "metadata": {},
   "source": [
    "## Project Questions: Identify the main questions you'll need to answer to make recommendations (list below, add as many questions as you need.)"
   ]
  },
  {
   "cell_type": "markdown",
   "id": "c689dc9b",
   "metadata": {},
   "source": [
    "Question 1: What is the average duration of rides per evening commute? This will let us know how long the evening commute ride is.\n",
    "\n",
    "Question 2: What is the average duration of rides per morning commute? This will let us know how long the morning commute ride is.\n",
    "\n",
    "Question 3: How bike friendly are the likely paths around each station? This will give us an idea of how enjoyable rides are at each station.\n",
    "\n",
    "Question 4: How many riders have been added as a result of the current offers/incentatives? This will tell us if the offers/incentatives are working.\n",
    "\n",
    "Question 5: Which stations have the most riders? This will let us know what stations are most popular.\n",
    "\n",
    "Question 6: What area attractions are available along each likely bike route? This will give us an idea of new potential partners for incentatives.\n",
    "\n",
    "Question 7: What stations have the least amount of ridership? What stations need additional incentives to lure new or return riders.\n",
    "\n",
    "Question 8: What commutes are the most popular. Between morning and evening commutes, which one presents the best opportunity to capitalize on the volume of riders?"
   ]
  },
  {
   "cell_type": "markdown",
   "id": "fa49cdff",
   "metadata": {},
   "source": [
    "## Answered Questions\n",
    "\n",
    "1. What is the average duration of evening commute?\n",
    "\n",
    "Answer: The duration of the evening commute is 1087.5 seconds"
   ]
  },
  {
   "cell_type": "code",
   "execution_count": 39,
   "id": "3651382c",
   "metadata": {},
   "outputs": [
    {
     "name": "stderr",
     "output_type": "stream",
     "text": [
      "Query complete after 0.00s: 100%|██████████| 2/2 [00:00<00:00, 549.64query/s]                         \n",
      "Downloading: 100%|██████████| 1/1 [00:01<00:00,  1.58s/rows]\n"
     ]
    },
    {
     "data": {
      "text/html": [
       "<div>\n",
       "<style scoped>\n",
       "    .dataframe tbody tr th:only-of-type {\n",
       "        vertical-align: middle;\n",
       "    }\n",
       "\n",
       "    .dataframe tbody tr th {\n",
       "        vertical-align: top;\n",
       "    }\n",
       "\n",
       "    .dataframe thead th {\n",
       "        text-align: right;\n",
       "    }\n",
       "</style>\n",
       "<table border=\"1\" class=\"dataframe\">\n",
       "  <thead>\n",
       "    <tr style=\"text-align: right;\">\n",
       "      <th></th>\n",
       "      <th>evening_commute</th>\n",
       "    </tr>\n",
       "  </thead>\n",
       "  <tbody>\n",
       "    <tr>\n",
       "      <th>0</th>\n",
       "      <td>1087.499793</td>\n",
       "    </tr>\n",
       "  </tbody>\n",
       "</table>\n",
       "</div>"
      ],
      "text/plain": [
       "   evening_commute\n",
       "0      1087.499793"
      ]
     },
     "execution_count": 39,
     "metadata": {},
     "output_type": "execute_result"
    }
   ],
   "source": [
    "%%bigquery\n",
    "\n",
    "select AVG(duration_sec) as evening_commute\n",
    "from bigquery-public-data.san_francisco.bikeshare_trips\n",
    "WHERE EXTRACT(HOUR FROM start_date) >= 12"
   ]
  },
  {
   "cell_type": "markdown",
   "id": "500beb50",
   "metadata": {},
   "source": [
    "2. What is the average duration of morning commute?\n",
    "\n",
    "Answer: The duration of the morning commute is 923.9 seconds"
   ]
  },
  {
   "cell_type": "code",
   "execution_count": 41,
   "id": "c2250a49",
   "metadata": {},
   "outputs": [
    {
     "name": "stderr",
     "output_type": "stream",
     "text": [
      "Query complete after 0.00s: 100%|██████████| 2/2 [00:00<00:00, 664.44query/s]                         \n",
      "Downloading: 100%|██████████| 1/1 [00:01<00:00,  1.13s/rows]\n"
     ]
    },
    {
     "data": {
      "text/html": [
       "<div>\n",
       "<style scoped>\n",
       "    .dataframe tbody tr th:only-of-type {\n",
       "        vertical-align: middle;\n",
       "    }\n",
       "\n",
       "    .dataframe tbody tr th {\n",
       "        vertical-align: top;\n",
       "    }\n",
       "\n",
       "    .dataframe thead th {\n",
       "        text-align: right;\n",
       "    }\n",
       "</style>\n",
       "<table border=\"1\" class=\"dataframe\">\n",
       "  <thead>\n",
       "    <tr style=\"text-align: right;\">\n",
       "      <th></th>\n",
       "      <th>morning_commute</th>\n",
       "    </tr>\n",
       "  </thead>\n",
       "  <tbody>\n",
       "    <tr>\n",
       "      <th>0</th>\n",
       "      <td>923.929936</td>\n",
       "    </tr>\n",
       "  </tbody>\n",
       "</table>\n",
       "</div>"
      ],
      "text/plain": [
       "   morning_commute\n",
       "0       923.929936"
      ]
     },
     "execution_count": 41,
     "metadata": {},
     "output_type": "execute_result"
    }
   ],
   "source": [
    "%%bigquery\n",
    "\n",
    "select AVG(duration_sec) as morning_commute\n",
    "from bigquery-public-data.san_francisco.bikeshare_trips\n",
    "WHERE EXTRACT(HOUR FROM start_date) < 12"
   ]
  },
  {
   "cell_type": "markdown",
   "id": "29168caa",
   "metadata": {},
   "source": [
    "3. What stations have the most riders?\n",
    "\n",
    "Answer: The top 10 stations with the most riders are IDs: 70, 69, 50, 60, 61, 55, 74, 77, 65, and 67. The name of the top station is San Francisco Caltrain (Townsend at 4th)"
   ]
  },
  {
   "cell_type": "code",
   "execution_count": 43,
   "id": "93386366",
   "metadata": {},
   "outputs": [
    {
     "name": "stderr",
     "output_type": "stream",
     "text": [
      "Query complete after 0.00s: 100%|██████████| 3/3 [00:00<00:00, 1040.86query/s]                        \n",
      "Downloading: 100%|██████████| 10/10 [00:01<00:00,  7.25rows/s]\n"
     ]
    },
    {
     "data": {
      "text/html": [
       "<div>\n",
       "<style scoped>\n",
       "    .dataframe tbody tr th:only-of-type {\n",
       "        vertical-align: middle;\n",
       "    }\n",
       "\n",
       "    .dataframe tbody tr th {\n",
       "        vertical-align: top;\n",
       "    }\n",
       "\n",
       "    .dataframe thead th {\n",
       "        text-align: right;\n",
       "    }\n",
       "</style>\n",
       "<table border=\"1\" class=\"dataframe\">\n",
       "  <thead>\n",
       "    <tr style=\"text-align: right;\">\n",
       "      <th></th>\n",
       "      <th>start_station_id</th>\n",
       "      <th>trips_per_station</th>\n",
       "    </tr>\n",
       "  </thead>\n",
       "  <tbody>\n",
       "    <tr>\n",
       "      <th>0</th>\n",
       "      <td>70</td>\n",
       "      <td>72683</td>\n",
       "    </tr>\n",
       "    <tr>\n",
       "      <th>1</th>\n",
       "      <td>69</td>\n",
       "      <td>56100</td>\n",
       "    </tr>\n",
       "    <tr>\n",
       "      <th>2</th>\n",
       "      <td>50</td>\n",
       "      <td>49062</td>\n",
       "    </tr>\n",
       "    <tr>\n",
       "      <th>3</th>\n",
       "      <td>60</td>\n",
       "      <td>41137</td>\n",
       "    </tr>\n",
       "    <tr>\n",
       "      <th>4</th>\n",
       "      <td>61</td>\n",
       "      <td>39936</td>\n",
       "    </tr>\n",
       "    <tr>\n",
       "      <th>5</th>\n",
       "      <td>55</td>\n",
       "      <td>39200</td>\n",
       "    </tr>\n",
       "    <tr>\n",
       "      <th>6</th>\n",
       "      <td>74</td>\n",
       "      <td>38531</td>\n",
       "    </tr>\n",
       "    <tr>\n",
       "      <th>7</th>\n",
       "      <td>77</td>\n",
       "      <td>35142</td>\n",
       "    </tr>\n",
       "    <tr>\n",
       "      <th>8</th>\n",
       "      <td>65</td>\n",
       "      <td>34894</td>\n",
       "    </tr>\n",
       "    <tr>\n",
       "      <th>9</th>\n",
       "      <td>67</td>\n",
       "      <td>30209</td>\n",
       "    </tr>\n",
       "  </tbody>\n",
       "</table>\n",
       "</div>"
      ],
      "text/plain": [
       "   start_station_id  trips_per_station\n",
       "0                70              72683\n",
       "1                69              56100\n",
       "2                50              49062\n",
       "3                60              41137\n",
       "4                61              39936\n",
       "5                55              39200\n",
       "6                74              38531\n",
       "7                77              35142\n",
       "8                65              34894\n",
       "9                67              30209"
      ]
     },
     "execution_count": 43,
     "metadata": {},
     "output_type": "execute_result"
    }
   ],
   "source": [
    "%%bigquery\n",
    "\n",
    "SELECT start_station_id, COUNT(start_station_id) as trips_per_station\n",
    "FROM bigquery-public-data.san_francisco.bikeshare_trips\n",
    "GROUP BY start_station_id\n",
    "ORDER BY trips_per_station DESC\n",
    "LIMIT 10"
   ]
  },
  {
   "cell_type": "code",
   "execution_count": 44,
   "id": "1f407b08",
   "metadata": {},
   "outputs": [
    {
     "name": "stderr",
     "output_type": "stream",
     "text": [
      "Query complete after 0.00s: 100%|██████████| 1/1 [00:00<00:00, 359.56query/s]                          \n",
      "Downloading: 100%|██████████| 1/1 [00:01<00:00,  1.41s/rows]\n"
     ]
    },
    {
     "data": {
      "text/html": [
       "<div>\n",
       "<style scoped>\n",
       "    .dataframe tbody tr th:only-of-type {\n",
       "        vertical-align: middle;\n",
       "    }\n",
       "\n",
       "    .dataframe tbody tr th {\n",
       "        vertical-align: top;\n",
       "    }\n",
       "\n",
       "    .dataframe thead th {\n",
       "        text-align: right;\n",
       "    }\n",
       "</style>\n",
       "<table border=\"1\" class=\"dataframe\">\n",
       "  <thead>\n",
       "    <tr style=\"text-align: right;\">\n",
       "      <th></th>\n",
       "      <th>name</th>\n",
       "    </tr>\n",
       "  </thead>\n",
       "  <tbody>\n",
       "    <tr>\n",
       "      <th>0</th>\n",
       "      <td>San Francisco Caltrain (Townsend at 4th)</td>\n",
       "    </tr>\n",
       "  </tbody>\n",
       "</table>\n",
       "</div>"
      ],
      "text/plain": [
       "                                       name\n",
       "0  San Francisco Caltrain (Townsend at 4th)"
      ]
     },
     "execution_count": 44,
     "metadata": {},
     "output_type": "execute_result"
    }
   ],
   "source": [
    "%%bigquery\n",
    "SELECT name\n",
    "FROM bigquery-public-data.san_francisco.bikeshare_stations\n",
    "WHERE station_id = 70"
   ]
  },
  {
   "cell_type": "markdown",
   "id": "17413f9d",
   "metadata": {},
   "source": [
    "4. What stations have the least amount of riders?\n",
    "\n",
    "Answer: The top 10 stations with the most riders are IDs: 88, 91, 89, 90, 21, 24, 23, 26, 83, and 25. The least performing station is 5th S. at El Salvador St."
   ]
  },
  {
   "cell_type": "code",
   "execution_count": 45,
   "id": "97a1d1f7",
   "metadata": {},
   "outputs": [
    {
     "name": "stderr",
     "output_type": "stream",
     "text": [
      "Query complete after 0.00s: 100%|██████████| 3/3 [00:00<00:00, 1057.03query/s]                        \n",
      "Downloading: 100%|██████████| 10/10 [00:01<00:00,  6.37rows/s]\n"
     ]
    },
    {
     "data": {
      "text/html": [
       "<div>\n",
       "<style scoped>\n",
       "    .dataframe tbody tr th:only-of-type {\n",
       "        vertical-align: middle;\n",
       "    }\n",
       "\n",
       "    .dataframe tbody tr th {\n",
       "        vertical-align: top;\n",
       "    }\n",
       "\n",
       "    .dataframe thead th {\n",
       "        text-align: right;\n",
       "    }\n",
       "</style>\n",
       "<table border=\"1\" class=\"dataframe\">\n",
       "  <thead>\n",
       "    <tr style=\"text-align: right;\">\n",
       "      <th></th>\n",
       "      <th>start_station_id</th>\n",
       "      <th>trips_per_station</th>\n",
       "    </tr>\n",
       "  </thead>\n",
       "  <tbody>\n",
       "    <tr>\n",
       "      <th>0</th>\n",
       "      <td>88</td>\n",
       "      <td>20</td>\n",
       "    </tr>\n",
       "    <tr>\n",
       "      <th>1</th>\n",
       "      <td>91</td>\n",
       "      <td>69</td>\n",
       "    </tr>\n",
       "    <tr>\n",
       "      <th>2</th>\n",
       "      <td>89</td>\n",
       "      <td>84</td>\n",
       "    </tr>\n",
       "    <tr>\n",
       "      <th>3</th>\n",
       "      <td>90</td>\n",
       "      <td>173</td>\n",
       "    </tr>\n",
       "    <tr>\n",
       "      <th>4</th>\n",
       "      <td>21</td>\n",
       "      <td>241</td>\n",
       "    </tr>\n",
       "    <tr>\n",
       "      <th>5</th>\n",
       "      <td>24</td>\n",
       "      <td>272</td>\n",
       "    </tr>\n",
       "    <tr>\n",
       "      <th>6</th>\n",
       "      <td>23</td>\n",
       "      <td>373</td>\n",
       "    </tr>\n",
       "    <tr>\n",
       "      <th>7</th>\n",
       "      <td>26</td>\n",
       "      <td>463</td>\n",
       "    </tr>\n",
       "    <tr>\n",
       "      <th>8</th>\n",
       "      <td>83</td>\n",
       "      <td>467</td>\n",
       "    </tr>\n",
       "    <tr>\n",
       "      <th>9</th>\n",
       "      <td>25</td>\n",
       "      <td>931</td>\n",
       "    </tr>\n",
       "  </tbody>\n",
       "</table>\n",
       "</div>"
      ],
      "text/plain": [
       "   start_station_id  trips_per_station\n",
       "0                88                 20\n",
       "1                91                 69\n",
       "2                89                 84\n",
       "3                90                173\n",
       "4                21                241\n",
       "5                24                272\n",
       "6                23                373\n",
       "7                26                463\n",
       "8                83                467\n",
       "9                25                931"
      ]
     },
     "execution_count": 45,
     "metadata": {},
     "output_type": "execute_result"
    }
   ],
   "source": [
    "%%bigquery\n",
    "\n",
    "SELECT start_station_id, COUNT(start_station_id) as trips_per_station\n",
    "FROM bigquery-public-data.san_francisco.bikeshare_trips\n",
    "GROUP BY start_station_id\n",
    "ORDER BY trips_per_station\n",
    "LIMIT 10"
   ]
  },
  {
   "cell_type": "code",
   "execution_count": 46,
   "id": "50b63a06",
   "metadata": {},
   "outputs": [
    {
     "name": "stderr",
     "output_type": "stream",
     "text": [
      "Query complete after 0.00s: 100%|██████████| 1/1 [00:00<00:00, 686.58query/s]                          \n",
      "Downloading: 100%|██████████| 1/1 [00:01<00:00,  1.17s/rows]\n"
     ]
    },
    {
     "data": {
      "text/html": [
       "<div>\n",
       "<style scoped>\n",
       "    .dataframe tbody tr th:only-of-type {\n",
       "        vertical-align: middle;\n",
       "    }\n",
       "\n",
       "    .dataframe tbody tr th {\n",
       "        vertical-align: top;\n",
       "    }\n",
       "\n",
       "    .dataframe thead th {\n",
       "        text-align: right;\n",
       "    }\n",
       "</style>\n",
       "<table border=\"1\" class=\"dataframe\">\n",
       "  <thead>\n",
       "    <tr style=\"text-align: right;\">\n",
       "      <th></th>\n",
       "      <th>name</th>\n",
       "    </tr>\n",
       "  </thead>\n",
       "  <tbody>\n",
       "    <tr>\n",
       "      <th>0</th>\n",
       "      <td>5th S. at E. San Salvador St</td>\n",
       "    </tr>\n",
       "  </tbody>\n",
       "</table>\n",
       "</div>"
      ],
      "text/plain": [
       "                           name\n",
       "0  5th S. at E. San Salvador St"
      ]
     },
     "execution_count": 46,
     "metadata": {},
     "output_type": "execute_result"
    }
   ],
   "source": [
    "%%bigquery\n",
    "SELECT name\n",
    "FROM bigquery-public-data.san_francisco.bikeshare_stations\n",
    "WHERE station_id = 88"
   ]
  },
  {
   "cell_type": "markdown",
   "id": "ebb7adf9",
   "metadata": {},
   "source": [
    "5. What stations on the morning commute are the most popular?\n",
    "\n",
    "Answer: The stations on the morning commute which are the most popular are IDs: 70, 69, 50, 55, 74, 73, 61, 67, 54, and 77."
   ]
  },
  {
   "cell_type": "code",
   "execution_count": 48,
   "id": "06657746",
   "metadata": {},
   "outputs": [
    {
     "name": "stderr",
     "output_type": "stream",
     "text": [
      "Query complete after 0.00s: 100%|██████████| 3/3 [00:00<00:00, 855.86query/s]                         \n",
      "Downloading: 100%|██████████| 10/10 [00:01<00:00,  7.44rows/s]\n"
     ]
    },
    {
     "data": {
      "text/html": [
       "<div>\n",
       "<style scoped>\n",
       "    .dataframe tbody tr th:only-of-type {\n",
       "        vertical-align: middle;\n",
       "    }\n",
       "\n",
       "    .dataframe tbody tr th {\n",
       "        vertical-align: top;\n",
       "    }\n",
       "\n",
       "    .dataframe thead th {\n",
       "        text-align: right;\n",
       "    }\n",
       "</style>\n",
       "<table border=\"1\" class=\"dataframe\">\n",
       "  <thead>\n",
       "    <tr style=\"text-align: right;\">\n",
       "      <th></th>\n",
       "      <th>start_station_id</th>\n",
       "      <th>morning_commute_count</th>\n",
       "    </tr>\n",
       "  </thead>\n",
       "  <tbody>\n",
       "    <tr>\n",
       "      <th>0</th>\n",
       "      <td>70</td>\n",
       "      <td>43036</td>\n",
       "    </tr>\n",
       "    <tr>\n",
       "      <th>1</th>\n",
       "      <td>69</td>\n",
       "      <td>31913</td>\n",
       "    </tr>\n",
       "    <tr>\n",
       "      <th>2</th>\n",
       "      <td>50</td>\n",
       "      <td>22287</td>\n",
       "    </tr>\n",
       "    <tr>\n",
       "      <th>3</th>\n",
       "      <td>55</td>\n",
       "      <td>21360</td>\n",
       "    </tr>\n",
       "    <tr>\n",
       "      <th>4</th>\n",
       "      <td>74</td>\n",
       "      <td>15877</td>\n",
       "    </tr>\n",
       "    <tr>\n",
       "      <th>5</th>\n",
       "      <td>73</td>\n",
       "      <td>12802</td>\n",
       "    </tr>\n",
       "    <tr>\n",
       "      <th>6</th>\n",
       "      <td>61</td>\n",
       "      <td>12265</td>\n",
       "    </tr>\n",
       "    <tr>\n",
       "      <th>7</th>\n",
       "      <td>67</td>\n",
       "      <td>9371</td>\n",
       "    </tr>\n",
       "    <tr>\n",
       "      <th>8</th>\n",
       "      <td>54</td>\n",
       "      <td>9371</td>\n",
       "    </tr>\n",
       "    <tr>\n",
       "      <th>9</th>\n",
       "      <td>77</td>\n",
       "      <td>8524</td>\n",
       "    </tr>\n",
       "  </tbody>\n",
       "</table>\n",
       "</div>"
      ],
      "text/plain": [
       "   start_station_id  morning_commute_count\n",
       "0                70                  43036\n",
       "1                69                  31913\n",
       "2                50                  22287\n",
       "3                55                  21360\n",
       "4                74                  15877\n",
       "5                73                  12802\n",
       "6                61                  12265\n",
       "7                67                   9371\n",
       "8                54                   9371\n",
       "9                77                   8524"
      ]
     },
     "execution_count": 48,
     "metadata": {},
     "output_type": "execute_result"
    }
   ],
   "source": [
    "%%bigquery\n",
    "\n",
    "select start_station_id, COUNT(start_station_id) as morning_commute_count\n",
    "from bigquery-public-data.san_francisco.bikeshare_trips\n",
    "WHERE EXTRACT(HOUR FROM start_date) < 10\n",
    "GROUP BY start_station_id\n",
    "ORDER BY morning_commute_count DESC\n",
    "LIMIT 10"
   ]
  },
  {
   "cell_type": "markdown",
   "id": "852ed158",
   "metadata": {},
   "source": [
    "6. What stations on the evening commute are the most popular?\n",
    "\n",
    "Answer: The stations on the evening commute which are the most popular are IDs: 60, 61, 65, 70, 77, 74, 64, 69, 55, and 51. "
   ]
  },
  {
   "cell_type": "code",
   "execution_count": 55,
   "id": "cf2092a7",
   "metadata": {},
   "outputs": [
    {
     "name": "stderr",
     "output_type": "stream",
     "text": [
      "Query complete after 0.00s: 100%|██████████| 3/3 [00:00<00:00, 754.37query/s]                         \n",
      "Downloading: 100%|██████████| 10/10 [00:01<00:00,  7.60rows/s]\n"
     ]
    },
    {
     "data": {
      "text/html": [
       "<div>\n",
       "<style scoped>\n",
       "    .dataframe tbody tr th:only-of-type {\n",
       "        vertical-align: middle;\n",
       "    }\n",
       "\n",
       "    .dataframe tbody tr th {\n",
       "        vertical-align: top;\n",
       "    }\n",
       "\n",
       "    .dataframe thead th {\n",
       "        text-align: right;\n",
       "    }\n",
       "</style>\n",
       "<table border=\"1\" class=\"dataframe\">\n",
       "  <thead>\n",
       "    <tr style=\"text-align: right;\">\n",
       "      <th></th>\n",
       "      <th>start_station_id</th>\n",
       "      <th>evening_commute_count</th>\n",
       "    </tr>\n",
       "  </thead>\n",
       "  <tbody>\n",
       "    <tr>\n",
       "      <th>0</th>\n",
       "      <td>60</td>\n",
       "      <td>17933</td>\n",
       "    </tr>\n",
       "    <tr>\n",
       "      <th>1</th>\n",
       "      <td>61</td>\n",
       "      <td>16744</td>\n",
       "    </tr>\n",
       "    <tr>\n",
       "      <th>2</th>\n",
       "      <td>65</td>\n",
       "      <td>16692</td>\n",
       "    </tr>\n",
       "    <tr>\n",
       "      <th>3</th>\n",
       "      <td>70</td>\n",
       "      <td>15371</td>\n",
       "    </tr>\n",
       "    <tr>\n",
       "      <th>4</th>\n",
       "      <td>77</td>\n",
       "      <td>13600</td>\n",
       "    </tr>\n",
       "    <tr>\n",
       "      <th>5</th>\n",
       "      <td>74</td>\n",
       "      <td>12778</td>\n",
       "    </tr>\n",
       "    <tr>\n",
       "      <th>6</th>\n",
       "      <td>64</td>\n",
       "      <td>12238</td>\n",
       "    </tr>\n",
       "    <tr>\n",
       "      <th>7</th>\n",
       "      <td>69</td>\n",
       "      <td>11649</td>\n",
       "    </tr>\n",
       "    <tr>\n",
       "      <th>8</th>\n",
       "      <td>55</td>\n",
       "      <td>11579</td>\n",
       "    </tr>\n",
       "    <tr>\n",
       "      <th>9</th>\n",
       "      <td>51</td>\n",
       "      <td>11518</td>\n",
       "    </tr>\n",
       "  </tbody>\n",
       "</table>\n",
       "</div>"
      ],
      "text/plain": [
       "   start_station_id  evening_commute_count\n",
       "0                60                  17933\n",
       "1                61                  16744\n",
       "2                65                  16692\n",
       "3                70                  15371\n",
       "4                77                  13600\n",
       "5                74                  12778\n",
       "6                64                  12238\n",
       "7                69                  11649\n",
       "8                55                  11579\n",
       "9                51                  11518"
      ]
     },
     "execution_count": 55,
     "metadata": {},
     "output_type": "execute_result"
    }
   ],
   "source": [
    "%%bigquery\n",
    "\n",
    "select start_station_id, COUNT(start_station_id) as evening_commute_count\n",
    "from bigquery-public-data.san_francisco.bikeshare_trips\n",
    "WHERE EXTRACT(HOUR FROM start_date) between 15 and 18\n",
    "GROUP BY start_station_id\n",
    "ORDER BY evening_commute_count DESC\n",
    "LIMIT 10"
   ]
  },
  {
   "cell_type": "markdown",
   "id": "ef9e9918",
   "metadata": {},
   "source": [
    "## What commuter trips are the most popular overall?\n",
    "\n",
    "### I defined commuter trips as those taken in the morning from just past midnight to 10am for morning commute and from 1500 to 1800 (military time).\n",
    "\n",
    "### The most popular commuter trips overall are IDs: 70, 69, 50, 55, 61, 74, 60, 65, 77, and 67.\n",
    "\n",
    "### Below is a Big Query analysis which was pushed into a Pandas DataFrame that shows the top stations in terms of rides taken during commuting hours."
   ]
  },
  {
   "cell_type": "code",
   "execution_count": 60,
   "id": "0f208595",
   "metadata": {},
   "outputs": [
    {
     "name": "stderr",
     "output_type": "stream",
     "text": [
      "Query complete after 0.00s: 100%|██████████| 1/1 [00:00<00:00, 410.28query/s] \n",
      "Downloading: 100%|██████████| 10/10 [00:01<00:00,  6.28rows/s]\n"
     ]
    }
   ],
   "source": [
    "%%bigquery my_panda_data_frame\n",
    "\n",
    "select start_station_id, COUNT(start_station_id) as combined_commute_count\n",
    "from bigquery-public-data.san_francisco.bikeshare_trips\n",
    "WHERE (EXTRACT(HOUR FROM start_date) between 15 and 18) OR (EXTRACT(HOUR FROM start_date) < 10)\n",
    "GROUP BY start_station_id\n",
    "ORDER BY combined_commute_count DESC\n",
    "LIMIT 10"
   ]
  },
  {
   "cell_type": "code",
   "execution_count": 61,
   "id": "9e49b74a",
   "metadata": {},
   "outputs": [
    {
     "data": {
      "text/html": [
       "<div>\n",
       "<style scoped>\n",
       "    .dataframe tbody tr th:only-of-type {\n",
       "        vertical-align: middle;\n",
       "    }\n",
       "\n",
       "    .dataframe tbody tr th {\n",
       "        vertical-align: top;\n",
       "    }\n",
       "\n",
       "    .dataframe thead th {\n",
       "        text-align: right;\n",
       "    }\n",
       "</style>\n",
       "<table border=\"1\" class=\"dataframe\">\n",
       "  <thead>\n",
       "    <tr style=\"text-align: right;\">\n",
       "      <th></th>\n",
       "      <th>start_station_id</th>\n",
       "      <th>combined_commute_count</th>\n",
       "    </tr>\n",
       "  </thead>\n",
       "  <tbody>\n",
       "    <tr>\n",
       "      <th>0</th>\n",
       "      <td>70</td>\n",
       "      <td>58407</td>\n",
       "    </tr>\n",
       "    <tr>\n",
       "      <th>1</th>\n",
       "      <td>69</td>\n",
       "      <td>43562</td>\n",
       "    </tr>\n",
       "    <tr>\n",
       "      <th>2</th>\n",
       "      <td>50</td>\n",
       "      <td>33377</td>\n",
       "    </tr>\n",
       "    <tr>\n",
       "      <th>3</th>\n",
       "      <td>55</td>\n",
       "      <td>32939</td>\n",
       "    </tr>\n",
       "    <tr>\n",
       "      <th>4</th>\n",
       "      <td>61</td>\n",
       "      <td>29009</td>\n",
       "    </tr>\n",
       "    <tr>\n",
       "      <th>5</th>\n",
       "      <td>74</td>\n",
       "      <td>28655</td>\n",
       "    </tr>\n",
       "    <tr>\n",
       "      <th>6</th>\n",
       "      <td>60</td>\n",
       "      <td>26289</td>\n",
       "    </tr>\n",
       "    <tr>\n",
       "      <th>7</th>\n",
       "      <td>65</td>\n",
       "      <td>24521</td>\n",
       "    </tr>\n",
       "    <tr>\n",
       "      <th>8</th>\n",
       "      <td>77</td>\n",
       "      <td>22124</td>\n",
       "    </tr>\n",
       "    <tr>\n",
       "      <th>9</th>\n",
       "      <td>67</td>\n",
       "      <td>20673</td>\n",
       "    </tr>\n",
       "  </tbody>\n",
       "</table>\n",
       "</div>"
      ],
      "text/plain": [
       "   start_station_id  combined_commute_count\n",
       "0                70                   58407\n",
       "1                69                   43562\n",
       "2                50                   33377\n",
       "3                55                   32939\n",
       "4                61                   29009\n",
       "5                74                   28655\n",
       "6                60                   26289\n",
       "7                65                   24521\n",
       "8                77                   22124\n",
       "9                67                   20673"
      ]
     },
     "execution_count": 61,
     "metadata": {},
     "output_type": "execute_result"
    }
   ],
   "source": [
    "my_panda_data_frame"
   ]
  },
  {
   "cell_type": "markdown",
   "id": "aa126ba3",
   "metadata": {},
   "source": [
    "### The below histogram shows the distribution for the successful stations."
   ]
  },
  {
   "cell_type": "code",
   "execution_count": 64,
   "id": "f8203b20",
   "metadata": {},
   "outputs": [
    {
     "data": {
      "text/plain": [
       "<AxesSubplot:>"
      ]
     },
     "execution_count": 64,
     "metadata": {},
     "output_type": "execute_result"
    },
    {
     "data": {
      "image/png": "[encoded data removed]",
      "text/plain": [
       "<Figure size 640x480 with 1 Axes>"
      ]
     },
     "metadata": {},
     "output_type": "display_data"
    }
   ],
   "source": [
    "my_panda_data_frame.combined_commute_count.hist()"
   ]
  },
  {
   "cell_type": "markdown",
   "id": "a8183e9b",
   "metadata": {},
   "source": [
    "### The below graph shows the breakdown of the 10 most successful stations."
   ]
  },
  {
   "cell_type": "code",
   "execution_count": 69,
   "id": "970ecb9d",
   "metadata": {},
   "outputs": [
    {
     "data": {
      "image/png": "[encoded data removed]",
      "text/plain": [
       "<Figure size 800x550 with 1 Axes>"
      ]
     },
     "metadata": {},
     "output_type": "display_data"
    }
   ],
   "source": [
    "top_commute_stations = my_panda_data_frame\n",
    "\n",
    "plt.style.use('seaborn')\n",
    "\n",
    "top_commute_stations[['start_station_id', 'combined_commute_count']].groupby('start_station_id').sum().sort_values(by='combined_commute_count', ascending = False).plot(kind = 'bar')\n",
    "plt.ylabel('Combined Commute Count')\n",
    "plt.xlabel('Station IDs')\n",
    "plt.title('Top Used Stations for Commutes')\n",
    "plt.show()"
   ]
  },
  {
   "cell_type": "markdown",
   "id": "c27aecaf",
   "metadata": {},
   "source": [
    "### As a contrast the below Big Query analysis and Pandas DataFrame table shows the least successful stations based on riders during commutes."
   ]
  },
  {
   "cell_type": "code",
   "execution_count": 70,
   "id": "c2d5fedd",
   "metadata": {},
   "outputs": [
    {
     "name": "stderr",
     "output_type": "stream",
     "text": [
      "Query complete after 0.00s: 100%|██████████| 3/3 [00:00<00:00, 876.92query/s]                         \n",
      "Downloading: 100%|██████████| 10/10 [00:01<00:00,  5.85rows/s]\n"
     ]
    }
   ],
   "source": [
    "%%bigquery low_use_station_panda_data_frame\n",
    "\n",
    "select start_station_id, COUNT(start_station_id) as combined_commute_count\n",
    "from bigquery-public-data.san_francisco.bikeshare_trips\n",
    "WHERE (EXTRACT(HOUR FROM start_date) between 15 and 18) OR (EXTRACT(HOUR FROM start_date) < 10)\n",
    "GROUP BY start_station_id\n",
    "ORDER BY combined_commute_count\n",
    "LIMIT 10"
   ]
  },
  {
   "cell_type": "code",
   "execution_count": 71,
   "id": "a6826531",
   "metadata": {},
   "outputs": [
    {
     "data": {
      "text/html": [
       "<div>\n",
       "<style scoped>\n",
       "    .dataframe tbody tr th:only-of-type {\n",
       "        vertical-align: middle;\n",
       "    }\n",
       "\n",
       "    .dataframe tbody tr th {\n",
       "        vertical-align: top;\n",
       "    }\n",
       "\n",
       "    .dataframe thead th {\n",
       "        text-align: right;\n",
       "    }\n",
       "</style>\n",
       "<table border=\"1\" class=\"dataframe\">\n",
       "  <thead>\n",
       "    <tr style=\"text-align: right;\">\n",
       "      <th></th>\n",
       "      <th>start_station_id</th>\n",
       "      <th>combined_commute_count</th>\n",
       "    </tr>\n",
       "  </thead>\n",
       "  <tbody>\n",
       "    <tr>\n",
       "      <th>0</th>\n",
       "      <td>88</td>\n",
       "      <td>11</td>\n",
       "    </tr>\n",
       "    <tr>\n",
       "      <th>1</th>\n",
       "      <td>89</td>\n",
       "      <td>40</td>\n",
       "    </tr>\n",
       "    <tr>\n",
       "      <th>2</th>\n",
       "      <td>91</td>\n",
       "      <td>50</td>\n",
       "    </tr>\n",
       "    <tr>\n",
       "      <th>3</th>\n",
       "      <td>90</td>\n",
       "      <td>102</td>\n",
       "    </tr>\n",
       "    <tr>\n",
       "      <th>4</th>\n",
       "      <td>24</td>\n",
       "      <td>115</td>\n",
       "    </tr>\n",
       "    <tr>\n",
       "      <th>5</th>\n",
       "      <td>23</td>\n",
       "      <td>123</td>\n",
       "    </tr>\n",
       "    <tr>\n",
       "      <th>6</th>\n",
       "      <td>21</td>\n",
       "      <td>133</td>\n",
       "    </tr>\n",
       "    <tr>\n",
       "      <th>7</th>\n",
       "      <td>26</td>\n",
       "      <td>353</td>\n",
       "    </tr>\n",
       "    <tr>\n",
       "      <th>8</th>\n",
       "      <td>83</td>\n",
       "      <td>355</td>\n",
       "    </tr>\n",
       "    <tr>\n",
       "      <th>9</th>\n",
       "      <td>38</td>\n",
       "      <td>663</td>\n",
       "    </tr>\n",
       "  </tbody>\n",
       "</table>\n",
       "</div>"
      ],
      "text/plain": [
       "   start_station_id  combined_commute_count\n",
       "0                88                      11\n",
       "1                89                      40\n",
       "2                91                      50\n",
       "3                90                     102\n",
       "4                24                     115\n",
       "5                23                     123\n",
       "6                21                     133\n",
       "7                26                     353\n",
       "8                83                     355\n",
       "9                38                     663"
      ]
     },
     "execution_count": 71,
     "metadata": {},
     "output_type": "execute_result"
    }
   ],
   "source": [
    "low_use_station_panda_data_frame"
   ]
  },
  {
   "cell_type": "markdown",
   "id": "5bdf29c0",
   "metadata": {},
   "source": [
    "### The histogram below shows the distribution of the poor performing stations."
   ]
  },
  {
   "cell_type": "code",
   "execution_count": 74,
   "id": "2824d68c",
   "metadata": {},
   "outputs": [
    {
     "data": {
      "text/plain": [
       "<AxesSubplot:>"
      ]
     },
     "execution_count": 74,
     "metadata": {},
     "output_type": "execute_result"
    },
    {
     "data": {
      "image/png": "[encoded data removed]",
      "text/plain": [
       "<Figure size 800x550 with 1 Axes>"
      ]
     },
     "metadata": {},
     "output_type": "display_data"
    }
   ],
   "source": [
    "low_use_station_panda_data_frame.combined_commute_count.hist()"
   ]
  },
  {
   "cell_type": "markdown",
   "id": "6cb1c89e",
   "metadata": {},
   "source": [
    "### The bar graph below shows the values of the bottom 10 performing stations."
   ]
  },
  {
   "cell_type": "code",
   "execution_count": 73,
   "id": "f367e8f0",
   "metadata": {},
   "outputs": [
    {
     "data": {
      "image/png": "[encoded data removed]",
      "text/plain": [
       "<Figure size 800x550 with 1 Axes>"
      ]
     },
     "metadata": {},
     "output_type": "display_data"
    }
   ],
   "source": [
    "top_commute_stations = low_use_station_panda_data_frame\n",
    "\n",
    "plt.style.use('seaborn')\n",
    "\n",
    "top_commute_stations[['start_station_id', 'combined_commute_count']].groupby('start_station_id').sum().sort_values(by='combined_commute_count', ascending = False).plot(kind = 'bar')\n",
    "plt.ylabel('Combined Commute Count')\n",
    "plt.xlabel('Station IDs')\n",
    "plt.title('Lease Used Stations for Commutes')\n",
    "plt.show()"
   ]
  },
  {
   "cell_type": "markdown",
   "id": "c8800cd6",
   "metadata": {},
   "source": [
    "## Recommendations\n",
    "\n",
    "### 1. We should attempt to identify as many commonalities and differences as possible between the high performing stations and the poor performing stations. What is the appeal of the high performing stations? What are the turnoffs of the low performing stations?\n",
    "\n",
    "### 2. We should create localized specials/incentives instead of a broad set of specials/incentives. We need to make it more attractive to want to ride bikes out of the poor performing stations.\n",
    "\n",
    "### 3. Promote tourist sites along the bike paths for all the stations. This should increase ridership across all stations.\n",
    "\n",
    "### 4. Provide incentives for riding from different bike stations. One idea is to have something like a bingo board, where you get to fill in a box everytime you ride from a different station.\n",
    "\n",
    "### 5. Charge more for higher performing commuter hours. I know its a hard sell, but it may be the best option if all else fails. People will more than likely keep riding if they are going to work.\n",
    "\n",
    "### 6. Create partnerships with local and chain breakfast and dinner resturants. Since these shops will be on or near the path, it is likely commuters will want to stop both coming and going to work."
   ]
  },
  {
   "cell_type": "code",
   "execution_count": null,
   "id": "25b689a0",
   "metadata": {},
   "outputs": [],
   "source": []
  }
 ],
 "metadata": {
  "environment": {
   "name": "tf2-gpu.2-3.m68",
   "type": "gcloud",
   "uri": "gcr.io/deeplearning-platform-release/tf2-gpu.2-3:m68"
  },
  "kernelspec": {
   "display_name": "Python 3",
   "language": "python",
   "name": "python3"
  },
  "language_info": {
   "codemirror_mode": {
    "name": "ipython",
    "version": 3
   },
   "file_extension": ".py",
   "mimetype": "text/x-python",
   "name": "python",
   "nbconvert_exporter": "python",
   "pygments_lexer": "ipython3",
   "version": "3.7.10"
  }
 },
 "nbformat": 4,
 "nbformat_minor": 5
}
